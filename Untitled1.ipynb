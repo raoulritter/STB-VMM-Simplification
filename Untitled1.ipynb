{
 "cells": [
  {
   "cell_type": "code",
   "execution_count": 3,
   "id": "78a0f475",
   "metadata": {
    "ExecuteTime": {
     "end_time": "2023-05-15T14:57:48.276567Z",
     "start_time": "2023-05-15T14:57:34.734449Z"
    }
   },
   "outputs": [],
   "source": [
    "import torch\n",
    "import torch.nn as nn\n",
    "import torch.nn.functional as F\n",
    "import torch.optim as optim\n",
    "from torchvision import datasets, transforms\n",
    "from torch.autograd import Variable\n",
    "import tensorflow as tf\n",
    "import onnx\n",
    "\n",
    "model = onnx.load('ckpt/model_5x.onnx')  # load onnx model\n",
    "# print(model['state_dict'])  # model type\n",
    "\n",
    "# profile = ei.model.profile(model=model, device='cortex-m4f-80mhz')\n",
    "# print(profile.summary())"
   ]
  },
  {
   "cell_type": "code",
   "execution_count": 13,
   "id": "3d284da2",
   "metadata": {},
   "outputs": [
    {
     "name": "stdout",
     "output_type": "stream",
     "text": [
      "\u001B[31mERROR: Could not find a version that satisfies the requirement onnxruntime (from versions: none)\u001B[0m\u001B[31m\r\n",
      "\u001B[0m\u001B[31mERROR: No matching distribution found for onnxruntime\u001B[0m\u001B[31m\r\n",
      "\u001B[0m"
     ]
    }
   ],
   "source": [
    "frame ="
   ]
  },
  {
   "cell_type": "code",
   "execution_count": 2,
   "id": "89a278f3",
   "metadata": {
    "ExecuteTime": {
     "end_time": "2023-05-15T14:54:33.908456Z",
     "start_time": "2023-05-15T14:54:33.684950Z"
    }
   },
   "outputs": [],
   "source": [
    "import onnx\n",
    "onnx_model = onnx.load(\"ckpt/model.onnx\")\n",
    "onnx.checker.check_model(onnx_model)\n"
   ]
  },
  {
   "cell_type": "code",
   "execution_count": null,
   "id": "753432a7",
   "metadata": {},
   "outputs": [],
   "source": [
    "import onnxruntime as ort\n",
    "import numpy as np"
   ]
  },
  {
   "cell_type": "code",
   "execution_count": 3,
   "id": "789d4c9d",
   "metadata": {},
   "outputs": [
    {
     "ename": "ModuleNotFoundError",
     "evalue": "No module named 'tensorflow_addons'",
     "output_type": "error",
     "traceback": [
      "\u001B[0;31m---------------------------------------------------------------------------\u001B[0m",
      "\u001B[0;31mModuleNotFoundError\u001B[0m                       Traceback (most recent call last)",
      "Cell \u001B[0;32mIn[3], line 2\u001B[0m\n\u001B[1;32m      1\u001B[0m \u001B[38;5;28;01mimport\u001B[39;00m \u001B[38;5;21;01monnx\u001B[39;00m\n\u001B[0;32m----> 2\u001B[0m \u001B[38;5;28;01mfrom\u001B[39;00m \u001B[38;5;21;01monnx_tf\u001B[39;00m\u001B[38;5;21;01m.\u001B[39;00m\u001B[38;5;21;01mbackend\u001B[39;00m \u001B[38;5;28;01mimport\u001B[39;00m prepare\n\u001B[1;32m      4\u001B[0m onnx_model \u001B[38;5;241m=\u001B[39m onnx\u001B[38;5;241m.\u001B[39mload(\u001B[38;5;124m\"\u001B[39m\u001B[38;5;124mckpt/model.onnx\u001B[39m\u001B[38;5;124m\"\u001B[39m)\n\u001B[1;32m      5\u001B[0m tf_rep \u001B[38;5;241m=\u001B[39m prepare(onnx_model)\n",
      "File \u001B[0;32m/opt/anaconda3/envs/JupyterM1/lib/python3.11/site-packages/onnx_tf/__init__.py:1\u001B[0m\n\u001B[0;32m----> 1\u001B[0m \u001B[38;5;28;01mfrom\u001B[39;00m \u001B[38;5;21;01m.\u001B[39;00m \u001B[38;5;28;01mimport\u001B[39;00m backend\n",
      "File \u001B[0;32m/opt/anaconda3/envs/JupyterM1/lib/python3.11/site-packages/onnx_tf/backend.py:29\u001B[0m\n\u001B[1;32m     27\u001B[0m \u001B[38;5;28;01mfrom\u001B[39;00m \u001B[38;5;21;01monnx_tf\u001B[39;00m\u001B[38;5;21;01m.\u001B[39;00m\u001B[38;5;21;01mcommon\u001B[39;00m \u001B[38;5;28;01mimport\u001B[39;00m get_unique_suffix\n\u001B[1;32m     28\u001B[0m \u001B[38;5;28;01mfrom\u001B[39;00m \u001B[38;5;21;01monnx_tf\u001B[39;00m\u001B[38;5;21;01m.\u001B[39;00m\u001B[38;5;21;01mcommon\u001B[39;00m \u001B[38;5;28;01mimport\u001B[39;00m supports_device \u001B[38;5;28;01mas\u001B[39;00m common_supports_device\n\u001B[0;32m---> 29\u001B[0m \u001B[38;5;28;01mfrom\u001B[39;00m \u001B[38;5;21;01monnx_tf\u001B[39;00m\u001B[38;5;21;01m.\u001B[39;00m\u001B[38;5;21;01mcommon\u001B[39;00m\u001B[38;5;21;01m.\u001B[39;00m\u001B[38;5;21;01mhandler_helper\u001B[39;00m \u001B[38;5;28;01mimport\u001B[39;00m get_all_backend_handlers\n\u001B[1;32m     30\u001B[0m \u001B[38;5;28;01mfrom\u001B[39;00m \u001B[38;5;21;01monnx_tf\u001B[39;00m\u001B[38;5;21;01m.\u001B[39;00m\u001B[38;5;21;01mpb_wrapper\u001B[39;00m \u001B[38;5;28;01mimport\u001B[39;00m OnnxNode\n\u001B[1;32m     31\u001B[0m \u001B[38;5;28;01mimport\u001B[39;00m \u001B[38;5;21;01monnx_tf\u001B[39;00m\u001B[38;5;21;01m.\u001B[39;00m\u001B[38;5;21;01mcommon\u001B[39;00m \u001B[38;5;28;01mas\u001B[39;00m \u001B[38;5;21;01mcommon\u001B[39;00m\n",
      "File \u001B[0;32m/opt/anaconda3/envs/JupyterM1/lib/python3.11/site-packages/onnx_tf/common/handler_helper.py:3\u001B[0m\n\u001B[1;32m      1\u001B[0m \u001B[38;5;28;01mfrom\u001B[39;00m \u001B[38;5;21;01monnx\u001B[39;00m \u001B[38;5;28;01mimport\u001B[39;00m defs\n\u001B[0;32m----> 3\u001B[0m \u001B[38;5;28;01mfrom\u001B[39;00m \u001B[38;5;21;01monnx_tf\u001B[39;00m\u001B[38;5;21;01m.\u001B[39;00m\u001B[38;5;21;01mhandlers\u001B[39;00m\u001B[38;5;21;01m.\u001B[39;00m\u001B[38;5;21;01mbackend\u001B[39;00m \u001B[38;5;28;01mimport\u001B[39;00m \u001B[38;5;241m*\u001B[39m  \u001B[38;5;66;03m# noqa\u001B[39;00m\n\u001B[1;32m      4\u001B[0m \u001B[38;5;28;01mfrom\u001B[39;00m \u001B[38;5;21;01monnx_tf\u001B[39;00m\u001B[38;5;21;01m.\u001B[39;00m\u001B[38;5;21;01mhandlers\u001B[39;00m\u001B[38;5;21;01m.\u001B[39;00m\u001B[38;5;21;01mbackend_handler\u001B[39;00m \u001B[38;5;28;01mimport\u001B[39;00m BackendHandler\n\u001B[1;32m      5\u001B[0m \u001B[38;5;28;01mimport\u001B[39;00m \u001B[38;5;21;01monnx_tf\u001B[39;00m\u001B[38;5;21;01m.\u001B[39;00m\u001B[38;5;21;01mcommon\u001B[39;00m \u001B[38;5;28;01mas\u001B[39;00m \u001B[38;5;21;01mcommon\u001B[39;00m\n",
      "File \u001B[0;32m/opt/anaconda3/envs/JupyterM1/lib/python3.11/site-packages/onnx_tf/handlers/backend/hardmax.py:3\u001B[0m\n\u001B[1;32m      1\u001B[0m \u001B[38;5;28;01mimport\u001B[39;00m \u001B[38;5;21;01mnumpy\u001B[39;00m \u001B[38;5;28;01mas\u001B[39;00m \u001B[38;5;21;01mnp\u001B[39;00m\n\u001B[1;32m      2\u001B[0m \u001B[38;5;28;01mimport\u001B[39;00m \u001B[38;5;21;01mtensorflow\u001B[39;00m \u001B[38;5;28;01mas\u001B[39;00m \u001B[38;5;21;01mtf\u001B[39;00m\n\u001B[0;32m----> 3\u001B[0m \u001B[38;5;28;01mimport\u001B[39;00m \u001B[38;5;21;01mtensorflow_addons\u001B[39;00m \u001B[38;5;28;01mas\u001B[39;00m \u001B[38;5;21;01mtfa\u001B[39;00m\n\u001B[1;32m      5\u001B[0m \u001B[38;5;28;01mfrom\u001B[39;00m \u001B[38;5;21;01monnx_tf\u001B[39;00m\u001B[38;5;21;01m.\u001B[39;00m\u001B[38;5;21;01mhandlers\u001B[39;00m\u001B[38;5;21;01m.\u001B[39;00m\u001B[38;5;21;01mbackend_handler\u001B[39;00m \u001B[38;5;28;01mimport\u001B[39;00m BackendHandler\n\u001B[1;32m      6\u001B[0m \u001B[38;5;28;01mfrom\u001B[39;00m \u001B[38;5;21;01monnx_tf\u001B[39;00m\u001B[38;5;21;01m.\u001B[39;00m\u001B[38;5;21;01mhandlers\u001B[39;00m\u001B[38;5;21;01m.\u001B[39;00m\u001B[38;5;21;01mhandler\u001B[39;00m \u001B[38;5;28;01mimport\u001B[39;00m onnx_op\n",
      "\u001B[0;31mModuleNotFoundError\u001B[0m: No module named 'tensorflow_addons'"
     ]
    }
   ],
   "source": [
    "import onnx\n",
    "from onnx_tf.backend import prepare\n",
    " \n",
    "onnx_model = onnx.load(\"ckpt/model.onnx\")\n",
    "tf_rep = prepare(onnx_model)\n",
    "tf_rep.export_graph(\"output/model.pb\")"
   ]
  },
  {
   "cell_type": "code",
   "execution_count": 2,
   "id": "6f7482b6",
   "metadata": {},
   "outputs": [
    {
     "name": "stdout",
     "output_type": "stream",
     "text": [
      "Requirement already satisfied: tensorflow-macos in /opt/anaconda3/envs/JupyterM1/lib/python3.11/site-packages (2.13.0rc0)\n",
      "Requirement already satisfied: absl-py>=1.0.0 in /opt/anaconda3/envs/JupyterM1/lib/python3.11/site-packages (from tensorflow-macos) (1.4.0)\n",
      "Requirement already satisfied: astunparse>=1.6.0 in /opt/anaconda3/envs/JupyterM1/lib/python3.11/site-packages (from tensorflow-macos) (1.6.3)\n",
      "Requirement already satisfied: flatbuffers>=23.1.21 in /opt/anaconda3/envs/JupyterM1/lib/python3.11/site-packages (from tensorflow-macos) (23.5.8)\n",
      "Requirement already satisfied: gast<=0.4.0,>=0.2.1 in /opt/anaconda3/envs/JupyterM1/lib/python3.11/site-packages (from tensorflow-macos) (0.4.0)\n",
      "Requirement already satisfied: google-pasta>=0.1.1 in /opt/anaconda3/envs/JupyterM1/lib/python3.11/site-packages (from tensorflow-macos) (0.2.0)\n",
      "Requirement already satisfied: h5py>=2.9.0 in /opt/anaconda3/envs/JupyterM1/lib/python3.11/site-packages (from tensorflow-macos) (3.8.0)\n",
      "Requirement already satisfied: libclang>=13.0.0 in /opt/anaconda3/envs/JupyterM1/lib/python3.11/site-packages (from tensorflow-macos) (16.0.0)\n",
      "Requirement already satisfied: numpy>=1.22 in /opt/anaconda3/envs/JupyterM1/lib/python3.11/site-packages (from tensorflow-macos) (1.24.2)\n",
      "Requirement already satisfied: opt-einsum>=2.3.2 in /opt/anaconda3/envs/JupyterM1/lib/python3.11/site-packages (from tensorflow-macos) (3.3.0)\n",
      "Requirement already satisfied: packaging in /opt/anaconda3/envs/JupyterM1/lib/python3.11/site-packages (from tensorflow-macos) (23.1)\n",
      "Requirement already satisfied: protobuf!=4.21.0,!=4.21.1,!=4.21.2,!=4.21.3,!=4.21.4,!=4.21.5,<5.0.0dev,>=3.20.3 in /opt/anaconda3/envs/JupyterM1/lib/python3.11/site-packages (from tensorflow-macos) (3.20.3)\n",
      "Requirement already satisfied: setuptools in /opt/anaconda3/envs/JupyterM1/lib/python3.11/site-packages (from tensorflow-macos) (66.0.0)\n",
      "Requirement already satisfied: six>=1.12.0 in /opt/anaconda3/envs/JupyterM1/lib/python3.11/site-packages (from tensorflow-macos) (1.16.0)\n",
      "Requirement already satisfied: termcolor>=1.1.0 in /opt/anaconda3/envs/JupyterM1/lib/python3.11/site-packages (from tensorflow-macos) (2.3.0)\n",
      "Requirement already satisfied: typing-extensions>=3.6.6 in /opt/anaconda3/envs/JupyterM1/lib/python3.11/site-packages (from tensorflow-macos) (4.5.0)\n",
      "Requirement already satisfied: wrapt<1.15,>=1.11.0 in /opt/anaconda3/envs/JupyterM1/lib/python3.11/site-packages (from tensorflow-macos) (1.14.1)\n",
      "Requirement already satisfied: grpcio<2.0,>=1.24.3 in /opt/anaconda3/envs/JupyterM1/lib/python3.11/site-packages (from tensorflow-macos) (1.54.0)\n",
      "Requirement already satisfied: tensorboard<2.14,>=2.13 in /opt/anaconda3/envs/JupyterM1/lib/python3.11/site-packages (from tensorflow-macos) (2.13.0)\n",
      "Requirement already satisfied: tensorflow-estimator<2.14,>=2.13.0rc0 in /opt/anaconda3/envs/JupyterM1/lib/python3.11/site-packages (from tensorflow-macos) (2.13.0rc0)\n",
      "Requirement already satisfied: keras<2.14,>=2.13.1rc0 in /opt/anaconda3/envs/JupyterM1/lib/python3.11/site-packages (from tensorflow-macos) (2.13.1rc0)\n",
      "Requirement already satisfied: wheel<1.0,>=0.23.0 in /opt/anaconda3/envs/JupyterM1/lib/python3.11/site-packages (from astunparse>=1.6.0->tensorflow-macos) (0.38.4)\n",
      "Requirement already satisfied: google-auth<3,>=1.6.3 in /opt/anaconda3/envs/JupyterM1/lib/python3.11/site-packages (from tensorboard<2.14,>=2.13->tensorflow-macos) (2.17.3)\n",
      "Requirement already satisfied: google-auth-oauthlib<1.1,>=0.5 in /opt/anaconda3/envs/JupyterM1/lib/python3.11/site-packages (from tensorboard<2.14,>=2.13->tensorflow-macos) (1.0.0)\n",
      "Requirement already satisfied: markdown>=2.6.8 in /opt/anaconda3/envs/JupyterM1/lib/python3.11/site-packages (from tensorboard<2.14,>=2.13->tensorflow-macos) (3.4.3)\n",
      "Requirement already satisfied: requests<3,>=2.21.0 in /opt/anaconda3/envs/JupyterM1/lib/python3.11/site-packages (from tensorboard<2.14,>=2.13->tensorflow-macos) (2.29.0)\n",
      "Requirement already satisfied: tensorboard-data-server<0.8.0,>=0.7.0 in /opt/anaconda3/envs/JupyterM1/lib/python3.11/site-packages (from tensorboard<2.14,>=2.13->tensorflow-macos) (0.7.0)\n",
      "Requirement already satisfied: werkzeug>=1.0.1 in /opt/anaconda3/envs/JupyterM1/lib/python3.11/site-packages (from tensorboard<2.14,>=2.13->tensorflow-macos) (2.3.4)\n",
      "Requirement already satisfied: cachetools<6.0,>=2.0.0 in /opt/anaconda3/envs/JupyterM1/lib/python3.11/site-packages (from google-auth<3,>=1.6.3->tensorboard<2.14,>=2.13->tensorflow-macos) (5.3.0)\n",
      "Requirement already satisfied: pyasn1-modules>=0.2.1 in /opt/anaconda3/envs/JupyterM1/lib/python3.11/site-packages (from google-auth<3,>=1.6.3->tensorboard<2.14,>=2.13->tensorflow-macos) (0.3.0)\n",
      "Requirement already satisfied: rsa<5,>=3.1.4 in /opt/anaconda3/envs/JupyterM1/lib/python3.11/site-packages (from google-auth<3,>=1.6.3->tensorboard<2.14,>=2.13->tensorflow-macos) (4.9)\n",
      "Requirement already satisfied: requests-oauthlib>=0.7.0 in /opt/anaconda3/envs/JupyterM1/lib/python3.11/site-packages (from google-auth-oauthlib<1.1,>=0.5->tensorboard<2.14,>=2.13->tensorflow-macos) (1.3.1)\n",
      "Requirement already satisfied: charset-normalizer<4,>=2 in /opt/anaconda3/envs/JupyterM1/lib/python3.11/site-packages (from requests<3,>=2.21.0->tensorboard<2.14,>=2.13->tensorflow-macos) (2.0.4)\n",
      "Requirement already satisfied: idna<4,>=2.5 in /opt/anaconda3/envs/JupyterM1/lib/python3.11/site-packages (from requests<3,>=2.21.0->tensorboard<2.14,>=2.13->tensorflow-macos) (3.4)\n",
      "Requirement already satisfied: urllib3<1.27,>=1.21.1 in /opt/anaconda3/envs/JupyterM1/lib/python3.11/site-packages (from requests<3,>=2.21.0->tensorboard<2.14,>=2.13->tensorflow-macos) (1.26.15)\n",
      "Requirement already satisfied: certifi>=2017.4.17 in /opt/anaconda3/envs/JupyterM1/lib/python3.11/site-packages (from requests<3,>=2.21.0->tensorboard<2.14,>=2.13->tensorflow-macos) (2022.12.7)\n",
      "Requirement already satisfied: MarkupSafe>=2.1.1 in /opt/anaconda3/envs/JupyterM1/lib/python3.11/site-packages (from werkzeug>=1.0.1->tensorboard<2.14,>=2.13->tensorflow-macos) (2.1.1)\n",
      "Requirement already satisfied: pyasn1<0.6.0,>=0.4.6 in /opt/anaconda3/envs/JupyterM1/lib/python3.11/site-packages (from pyasn1-modules>=0.2.1->google-auth<3,>=1.6.3->tensorboard<2.14,>=2.13->tensorflow-macos) (0.5.0)\n",
      "Requirement already satisfied: oauthlib>=3.0.0 in /opt/anaconda3/envs/JupyterM1/lib/python3.11/site-packages (from requests-oauthlib>=0.7.0->google-auth-oauthlib<1.1,>=0.5->tensorboard<2.14,>=2.13->tensorflow-macos) (3.2.2)\n",
      "\u001B[31mERROR: Could not find a version that satisfies the requirement tensorflow-metal (from versions: none)\u001B[0m\u001B[31m\n",
      "\u001B[0m\u001B[31mERROR: No matching distribution found for tensorflow-metal\u001B[0m\u001B[31m\n",
      "\u001B[0m"
     ]
    }
   ],
   "source": []
  },
  {
   "cell_type": "code",
   "execution_count": 2,
   "id": "9783cc85",
   "metadata": {},
   "outputs": [
    {
     "data": {
      "text/plain": [
       "['alif-he',\n",
       " 'alif-hp',\n",
       " 'arduino-nano-33-ble',\n",
       " 'arduino-nicla-vision',\n",
       " 'portenta-h7',\n",
       " 'brainchip-akd1000',\n",
       " 'cortex-m4f-80mhz',\n",
       " 'cortex-m7-216mhz',\n",
       " 'espressif-esp32',\n",
       " 'himax-we-i',\n",
       " 'infineon-cy8ckit-062s2',\n",
       " 'infineon-cy8ckit-062-ble',\n",
       " 'jetson-nano',\n",
       " 'mbp-16-2020',\n",
       " 'nordic-nrf52840-dk',\n",
       " 'nordic-nrf5340-dk',\n",
       " 'nordic-nrf9160-dk',\n",
       " 'raspberry-pi-4',\n",
       " 'raspberry-pi-rp2040',\n",
       " 'renesas-ck-ra6m5',\n",
       " 'renesas-rzv2l-cpu',\n",
       " 'renesas-rzv2l',\n",
       " 'st-iot-discovery-kit',\n",
       " 'seeed-sense-cap',\n",
       " 'wio-terminal',\n",
       " 'seeed-vision-ai',\n",
       " 'silabs-xg24',\n",
       " 'silabs-thunderboard-sense-2',\n",
       " 'sony-spresense',\n",
       " 'synaptics-ka10000',\n",
       " 'ti-launchxl',\n",
       " 'ti-tda4vm']"
      ]
     },
     "execution_count": 2,
     "metadata": {},
     "output_type": "execute_result"
    }
   ],
   "source": [
    "import edgeimpulse as ei\n",
    "ei.API_KEY = \"ei_0b0545259a47b73668ef3016bc397c23520a3a545b7dbcfc\"\n",
    "ei.model.list_profile_devices()"
   ]
  },
  {
   "cell_type": "code",
   "execution_count": null,
   "id": "4ce3b1f4",
   "metadata": {},
   "outputs": [],
   "source": [
    "!pip install tensorflow_datasets\n"
   ]
  },
  {
   "cell_type": "code",
   "execution_count": null,
   "id": "30e91ebf",
   "metadata": {},
   "outputs": [],
   "source": [
    "import tensorflow as tf\n"
   ]
  }
 ],
 "metadata": {
  "kernelspec": {
   "display_name": "Python [conda env:afstudeer]",
   "language": "python",
   "name": "conda-env-afstudeer-py"
  },
  "language_info": {
   "codemirror_mode": {
    "name": "ipython",
    "version": 3
   },
   "file_extension": ".py",
   "mimetype": "text/x-python",
   "name": "python",
   "nbconvert_exporter": "python",
   "pygments_lexer": "ipython3",
   "version": "3.10.10"
  }
 },
 "nbformat": 4,
 "nbformat_minor": 5
}
