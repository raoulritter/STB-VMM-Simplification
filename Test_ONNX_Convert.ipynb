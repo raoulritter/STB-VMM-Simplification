{
 "cells": [
  {
   "cell_type": "code",
   "execution_count": 9,
   "id": "d0cd0fce",
   "metadata": {
    "ExecuteTime": {
     "end_time": "2023-05-15T16:14:15.749744Z",
     "start_time": "2023-05-15T16:14:15.540642Z"
    }
   },
   "outputs": [],
   "source": [
    "import onnx\n",
    "\n",
    "\n",
    "onnx_model = onnx.load(\"ckpt/model.onnx\")\n",
    "onnx.checker.check_model(onnx_model)"
   ]
  },
  {
   "cell_type": "code",
   "execution_count": 9,
   "id": "27f06a8c",
   "metadata": {
    "ExecuteTime": {
     "end_time": "2023-05-15T16:14:15.751689Z",
     "start_time": "2023-05-15T16:14:15.748975Z"
    }
   },
   "outputs": [],
   "source": []
  },
  {
   "cell_type": "code",
   "execution_count": 10,
   "id": "f9167299",
   "metadata": {
    "ExecuteTime": {
     "end_time": "2023-05-15T16:14:15.777873Z",
     "start_time": "2023-05-15T16:14:15.753825Z"
    }
   },
   "outputs": [
    {
     "ename": "ModuleNotFoundError",
     "evalue": "No module named 'onnx_tf'",
     "output_type": "error",
     "traceback": [
      "\u001b[0;31m---------------------------------------------------------------------------\u001b[0m",
      "\u001b[0;31mModuleNotFoundError\u001b[0m                       Traceback (most recent call last)",
      "Cell \u001b[0;32mIn[10], line 8\u001b[0m\n\u001b[1;32m      6\u001b[0m \u001b[38;5;28;01mfrom\u001b[39;00m \u001b[38;5;21;01mtorch\u001b[39;00m\u001b[38;5;21;01m.\u001b[39;00m\u001b[38;5;21;01mautograd\u001b[39;00m \u001b[38;5;28;01mimport\u001b[39;00m Variable\n\u001b[1;32m      7\u001b[0m \u001b[38;5;28;01mimport\u001b[39;00m \u001b[38;5;21;01monnx\u001b[39;00m\n\u001b[0;32m----> 8\u001b[0m \u001b[38;5;28;01mfrom\u001b[39;00m \u001b[38;5;21;01monnx_tf\u001b[39;00m\u001b[38;5;21;01m.\u001b[39;00m\u001b[38;5;21;01mbackend\u001b[39;00m \u001b[38;5;28;01mimport\u001b[39;00m prepare\n\u001b[1;32m     10\u001b[0m model \u001b[38;5;241m=\u001b[39m onnx\u001b[38;5;241m.\u001b[39mload(\u001b[38;5;124m'\u001b[39m\u001b[38;5;124mckpt/model_5x.onnx\u001b[39m\u001b[38;5;124m'\u001b[39m)\n\u001b[1;32m     11\u001b[0m tf_rep \u001b[38;5;241m=\u001b[39m prepare(model)\n",
      "\u001b[0;31mModuleNotFoundError\u001b[0m: No module named 'onnx_tf'"
     ]
    }
   ],
   "source": [
    "import torch\n",
    "import torch.nn as nn\n",
    "import torch.nn.functional as F\n",
    "import torch.optim as optim\n",
    "from torchvision import datasets, transforms\n",
    "from torch.autograd import Variable\n",
    "import onnx\n",
    "from onnx_tf.backend import prepare\n",
    "\n",
    "model = onnx.load('ckpt/model_5x.onnx')\n",
    "tf_rep = prepare(model)"
   ]
  },
  {
   "cell_type": "code",
   "execution_count": null,
   "id": "2d1db936",
   "metadata": {},
   "outputs": [],
   "source": []
  },
  {
   "cell_type": "code",
   "execution_count": null,
   "id": "f4eb7d23",
   "metadata": {
    "scrolled": false
   },
   "outputs": [],
   "source": [
    "import torch\n",
    "import torch.onnx as torch.onnx\n",
    "import onnx\n",
    "\n",
    "\n",
    "import torch.nn as nn\n",
    "\n",
    "from models.model import STBVMM\n",
    "\n",
    "# # Initialize model with checkpointing enabled\n",
    "# model = STBVMM(img_size=384, patch_size=1, in_chans=3,\n",
    "#                  embed_dim=48, depths=[6, 6, 6, 6], num_heads=[6, 6, 6, 6],\n",
    "#                  window_size=8, mlp_ratio=2., qkv_bias=True, qk_scale=None,\n",
    "#                  drop_rate=0., attn_drop_rate=0., drop_path_rate=0.1,\n",
    "#                  norm_layer=nn.LayerNorm, ape=False, patch_norm=True,\n",
    "#                  use_checkpoint=True, img_range=1., resi_connection='1conv',\n",
    "#                  manipulator_num_resblk = 1)\n",
    "\n",
    "model = STBVMM(img_size=384, patch_size=1, in_chans=3,\n",
    "                embed_dim=192, depths=[6, 6, 6, 6, 6, 6], num_heads=[6, 6, 6, 6, 6, 6],\n",
    "                window_size=8, mlp_ratio=2., qkv_bias=True, qk_scale=None,\n",
    "                drop_rate=0., attn_drop_rate=0., drop_path_rate=0.1,\n",
    "                norm_layer=nn.LayerNorm, ape=False, patch_norm=True,\n",
    "                use_checkpoint=False, img_range=1., resi_connection='1conv',\n",
    "                manipulator_num_resblk=1)\n",
    "\n",
    "# Load pretrained weights from checkpoint\n",
    "checkpoint = torch.load('ckpt/ckpt_e49.pth.tar')\n",
    "# print(checkpoint.keys())\n",
    "\n",
    "# print(checkpoint['state_dict'])\n",
    "\n",
    "model.load_state_dict(checkpoint['state_dict'], strict= False)\n",
    "\n",
    "# Set the model to eval mode\n",
    "model.eval()\n",
    "\n",
    "# Export model to ONNX\n",
    "inputs = (torch.randn(1, 3, 384, 384), torch.randn(1, 3, 384, 384), 5)\n",
    "input_names = [\"a\", \"b\", \"amp\"]\n",
    "output_names = [\"output\"]\n",
    "dynamic_axes = {\"a\": {0: \"batch_size\", 2: \"height\", 3: \"width\"},\n",
    "                \"b\": {0: \"batch_size\", 2: \"height\", 3: \"width\"},\n",
    "                \"output\": {0: \"batch_size\", 2: \"height\", 3: \"width\"}}\n",
    "onnx.export(model, inputs, \"model_checkpoint_5x_50ep.onnx\", input_names=input_names, output_names=output_names,\n",
    "            dynamic_axes=dynamic_axes, opset_version=11)\n"
   ]
  },
  {
   "cell_type": "code",
   "execution_count": 6,
   "id": "8d70c0e9",
   "metadata": {
    "ExecuteTime": {
     "end_time": "2023-05-16T04:50:57.341575Z",
     "start_time": "2023-05-16T04:50:57.144003Z"
    }
   },
   "outputs": [],
   "source": [
    "import onnx\n",
    "\n",
    "onnx_model = onnx.load(\"ckpt/model_checkpoint_5x_50ep.onnx\")\n",
    "onnx.checker.check_model(onnx_model)"
   ]
  },
  {
   "cell_type": "code",
   "execution_count": null,
   "id": "ec9bacfd",
   "metadata": {},
   "outputs": [],
   "source": [
    "import onnxruntime as ort\n",
    "import numpy as np\n",
    "import cv2\n",
    "x, y = test_data[0][0], test_data[0][1]"
   ]
  },
  {
   "cell_type": "code",
   "execution_count": 7,
   "id": "1bea7afb",
   "metadata": {
    "ExecuteTime": {
     "end_time": "2023-05-16T05:23:43.230764Z",
     "start_time": "2023-05-16T05:23:29.950857Z"
    }
   },
   "outputs": [
    {
     "name": "stdout",
     "output_type": "stream",
     "text": [
      "Using device: cpu\r\n",
      "demo_video/STB-VMM_Freezer_x20_mag\r\n",
      "processing sample: 0\r\n",
      "Traceback (most recent call last):\r\n",
      "  File \"/Users/raoulritter/STB-VMM/onnxrun.py\", line 112, in <module>\r\n",
      "    main(args)\r\n",
      "  File \"/Users/raoulritter/STB-VMM/onnxrun.py\", line 53, in main\r\n",
      "    ort_outs = ort_session.run(None, ort_inputs)\r\n",
      "  File \"/opt/anaconda3/envs/afstudeer/lib/python3.10/site-packages/onnxruntime/capi/onnxruntime_inference_collection.py\", line 200, in run\r\n",
      "    return self._sess.run(output_names, input_feed, run_options)\r\n",
      "RuntimeError: Input must be a list of dictionaries or a single numpy array for input 'a'.\r\n"
     ]
    }
   ],
   "source": [
    "!python onnxrun.py -j4 -b1 --load_ckpt ckpt/model_checkpoint_5x_50ep.onnx --save_dir demo_video/STB-VMM_Freezer_x20_mag -m 5 --video_path demo_video/STB-VMM_Freezer_x20_original/frame --num_data 6644 --mode static\n",
    "\n"
   ]
  },
  {
   "cell_type": "code",
   "execution_count": 1,
   "id": "c77312e7",
   "metadata": {
    "ExecuteTime": {
     "end_time": "2023-05-16T05:14:51.342430Z",
     "start_time": "2023-05-16T05:14:48.496955Z"
    }
   },
   "outputs": [
    {
     "name": "stdout",
     "output_type": "stream",
     "text": [
      "1.11.0\n",
      "0.12.0\n"
     ]
    }
   ],
   "source": [
    "import torch\n",
    "import torchvision\n",
    "print(torch.__version__)\n",
    "print(torchvision.__version__)"
   ]
  },
  {
   "cell_type": "code",
   "execution_count": null,
   "id": "702d9d85",
   "metadata": {},
   "outputs": [],
   "source": []
  }
 ],
 "metadata": {
  "kernelspec": {
   "display_name": "Python [conda env:afstudeer]",
   "language": "python",
   "name": "conda-env-afstudeer-py"
  },
  "language_info": {
   "codemirror_mode": {
    "name": "ipython",
    "version": 3
   },
   "file_extension": ".py",
   "mimetype": "text/x-python",
   "name": "python",
   "nbconvert_exporter": "python",
   "pygments_lexer": "ipython3",
   "version": "3.10.11"
  }
 },
 "nbformat": 4,
 "nbformat_minor": 5
}
